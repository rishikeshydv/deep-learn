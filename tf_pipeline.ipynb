{
 "cells": [
  {
   "cell_type": "code",
   "execution_count": 1,
   "metadata": {},
   "outputs": [],
   "source": [
    "import tensorflow as tf"
   ]
  },
  {
   "cell_type": "code",
   "execution_count": 2,
   "metadata": {},
   "outputs": [],
   "source": [
    "daily_sales = [1,2,3,4,5,6,7,8,9,10]"
   ]
  },
  {
   "cell_type": "code",
   "execution_count": 4,
   "metadata": {},
   "outputs": [
    {
     "data": {
      "text/plain": [
       "<_TensorSliceDataset element_spec=TensorSpec(shape=(), dtype=tf.int32, name=None)>"
      ]
     },
     "execution_count": 4,
     "metadata": {},
     "output_type": "execute_result"
    }
   ],
   "source": [
    "pipeline = tf.data.Dataset.from_tensor_slices(daily_sales)\n",
    "pipeline"
   ]
  },
  {
   "cell_type": "code",
   "execution_count": 6,
   "metadata": {},
   "outputs": [
    {
     "name": "stdout",
     "output_type": "stream",
     "text": [
      "[1 2]\n",
      "[3 4]\n",
      "[5 6]\n",
      "[7 8]\n",
      "[ 9 10]\n"
     ]
    },
    {
     "name": "stderr",
     "output_type": "stream",
     "text": [
      "2024-08-10 00:20:18.843033: I tensorflow/core/framework/local_rendezvous.cc:404] Local rendezvous is aborting with status: OUT_OF_RANGE: End of sequence\n"
     ]
    }
   ],
   "source": [
    "data_batch = pipeline.batch(2)\n",
    "for batch in data_batch:\n",
    "    print(batch.numpy())"
   ]
  },
  {
   "cell_type": "code",
   "execution_count": 13,
   "metadata": {},
   "outputs": [
    {
     "name": "stdout",
     "output_type": "stream",
     "text": [
      "tf.Tensor(b'images/cats/20 Reasons Why Cats Make the Best Pets....jpg', shape=(), dtype=string)\n",
      "tf.Tensor(b'images/cats/7 Foods Your Cat Can_t Eat.jpg', shape=(), dtype=string)\n",
      "tf.Tensor(b'images/cats/A cat appears to have caught the....jpg', shape=(), dtype=string)\n",
      "tf.Tensor(b'images/cats/Adopt-A-Cat Month\\xc2\\xae - American Humane....jpg', shape=(), dtype=string)\n",
      "tf.Tensor(b'images/cats/All About Your Cat_s Tongue.jpg', shape=(), dtype=string)\n",
      "tf.Tensor(b'images/dogs/10 Teacup Dog Breeds for Tiny Canine Lovers.jpg', shape=(), dtype=string)\n",
      "tf.Tensor(b'images/dogs/100_ Dogs Pictures _ Download Free....jpg', shape=(), dtype=string)\n",
      "tf.Tensor(b'images/dogs/11 Things Humans Do That Dogs Hate.jpg', shape=(), dtype=string)\n",
      "tf.Tensor(b'images/dogs/15 Amazing Facts About Dogs That Will....jpg', shape=(), dtype=string)\n",
      "tf.Tensor(b'images/dogs/20 must-have products for new dog owners.jpg', shape=(), dtype=string)\n"
     ]
    }
   ],
   "source": [
    "images_dataset = tf.data.Dataset.list_files('images/*/*',shuffle=False)\n",
    "for imagePaths in images_dataset:\n",
    "    print(imagePaths)"
   ]
  },
  {
   "cell_type": "code",
   "execution_count": 14,
   "metadata": {},
   "outputs": [],
   "source": [
    "categories = [\"cats\",\"dogs\"]\n",
    "imageCount = len(images_dataset)\n",
    "train_size = int(imageCount*0.8)"
   ]
  },
  {
   "cell_type": "code",
   "execution_count": 15,
   "metadata": {},
   "outputs": [],
   "source": [
    "train_dataset = images_dataset.take(train_size)\n",
    "test_dataset = images_dataset.skip(train_size)"
   ]
  }
 ],
 "metadata": {
  "kernelspec": {
   "display_name": "Python 3",
   "language": "python",
   "name": "python3"
  },
  "language_info": {
   "codemirror_mode": {
    "name": "ipython",
    "version": 3
   },
   "file_extension": ".py",
   "mimetype": "text/x-python",
   "name": "python",
   "nbconvert_exporter": "python",
   "pygments_lexer": "ipython3",
   "version": "3.12.4"
  }
 },
 "nbformat": 4,
 "nbformat_minor": 2
}
