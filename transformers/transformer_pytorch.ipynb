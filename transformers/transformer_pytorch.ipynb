{
  "nbformat": 4,
  "nbformat_minor": 0,
  "metadata": {
    "colab": {
      "provenance": []
    },
    "kernelspec": {
      "name": "python3",
      "display_name": "Python 3"
    },
    "language_info": {
      "name": "python"
    }
  },
  "cells": [
    {
      "cell_type": "code",
      "execution_count": 3,
      "metadata": {
        "id": "NmNGyrCTLNwP"
      },
      "outputs": [],
      "source": [
        "#pip3 install torch torchvision torchaudio"
      ]
    },
    {
      "cell_type": "code",
      "source": [
        "import torch\n",
        "import torch.nn as nn\n",
        "import torch.optim as optim\n",
        "import torch.utils.data as data\n",
        "import math\n",
        "import copy"
      ],
      "metadata": {
        "id": "ZOwOZCvr_Gad"
      },
      "execution_count": 19,
      "outputs": []
    },
    {
      "cell_type": "code",
      "source": [
        "class MultiHeadAttention(nn.Module):\n",
        "  def __init__(self,model_dimension,n_heads):\n",
        "    super(MultiHeadAttention,self).__init__()\n",
        "    assert model_dimension % n_heads == 0\n",
        "\n",
        "    #initialize the dimension\n",
        "    self.model_dimension = model_dimension\n",
        "    self.n_heads = n_heads\n",
        "    #now, we determine the dimension of each head\n",
        "    self.dimension = model_dimension // n_heads\n",
        "\n",
        "    #we use linear layers for transforming inputs into Q,K,V and output\n",
        "    self.q = nn.Linear(model_dimension,model_dimension)\n",
        "    self.k = nn.Linear(model_dimension,model_dimension)\n",
        "    self.v = nn.Linear(model_dimension,model_dimension)\n",
        "    self.o = nn.Linear(model_dimension,model_dimension)\n",
        "\n",
        "  def scaled_dot_product_attention(self,Q,K,V,mask=None):\n",
        "    attn_scores = torch.matmul(Q,K.transpose(-2,-1))/math.sqrt(self.dimension)\n",
        "    if mask is not None:\n",
        "      attn_scores.masked_fill(mask==0,-1e9)\n",
        "    attn_prob = torch.softmax(attn_scores,dim=-1)\n",
        "    output = torch.matmul(attn_prob,V)\n",
        "    return output\n",
        "\n",
        "  def split_heads(self,x):\n",
        "    batch_size, seq_length,d_model = x.size()\n",
        "    return x.view(batch_size,seq_length,self.n_heads,self.dimension).transpose(1,2)\n",
        "\n",
        "  def combine_heads(self,x):\n",
        "    batch_size, _, seq_length, d_k = x.size()\n",
        "    return x.transpose(1, 2).contiguous().view(batch_size, seq_length, self.d_model)\n",
        "\n",
        "  def forward(self,Q,K,V,mask=None):\n",
        "    Q = self.split_heads(self.q(Q))\n",
        "    K = self.split_heads(self.q(K))\n",
        "    V = self.split_heads(self.q(V))\n",
        "\n",
        "    attn_output = self.scaled_dot_product_attention(Q,K,V,mask)\n",
        "    output = self.o(self.combine_heads(attn_output))\n",
        "    return output"
      ],
      "metadata": {
        "id": "myRJi-ro_gq4"
      },
      "execution_count": 20,
      "outputs": []
    },
    {
      "cell_type": "code",
      "source": [
        "class PositionWiseFeedForward(nn.Module):\n",
        "  #model_dimension = Dimensionality of the model's input and output.\n",
        "  #fF_dimension = Dimensionality of the inner layer in the feed-forward network\n",
        "  def __init__(self,model_dimension,ff_dimension):\n",
        "    super(PositionWiseFeedForward, self).__init__()\n",
        "    self.fc1 = nn.Linear(model_dimension, ff_dimension)\n",
        "    self.fc2 = nn.Linear(ff_dimension, model_dimension)\n",
        "    self.relu = nn.ReLU()\n",
        "\n",
        "  def forward(self,x):\n",
        "    return self.fc2(self.relu(self.fc1(x)))\n"
      ],
      "metadata": {
        "id": "aM0zgKPo9kHH"
      },
      "execution_count": 21,
      "outputs": []
    },
    {
      "cell_type": "code",
      "source": [
        "class PositionalEncoding(nn.Module):\n",
        "  def __init__(self,model_dimension,max_seq_length):\n",
        "    super(PositionalEncoding, self).__init__()\n",
        "    pe = torch.zeros(max_seq_length,model_dimension)\n",
        "    position = torch.arange(0, max_seq_length, dtype=torch.float).unsqueeze(1)\n",
        "    div_term = torch.exp(torch.arange(0, model_dimension, 2).float() * -(math.log(10000.0) / model_dimension))\n",
        "\n",
        "#The sine function is applied to the even indices and the cosine function to the odd indices of pe.\n",
        "    pe[:, 0::2] = torch.sin(position * div_term)\n",
        "    pe[:, 1::2] = torch.cos(position * div_term)\n",
        "    self.register_buffer('pe',pe.unsqueeze(0))\n",
        "\n",
        "  def forward(self,x):\n",
        "    return x + self.pe[:,:x.size(1)]"
      ],
      "metadata": {
        "id": "mU8H2ocsAODv"
      },
      "execution_count": 22,
      "outputs": []
    },
    {
      "cell_type": "code",
      "source": [
        "class EncoderLayer(nn.Module):\n",
        "  def __init__(self,model_dimension,n_heads,ff_dimension,dropout):\n",
        "    super(EncoderLayer, self).__init__()\n",
        "    self.self_attn = MultiHeadAttention(model_dimension,n_heads)\n",
        "    self.feed_forward = PositionWiseFeedForward(model_dimension,ff_dimension)\n",
        "    self.norm1 = nn.LayerNorm(model_dimension)\n",
        "    self.norm2 = nn.LayerNorm(model_dimension)\n",
        "    self.dropout = nn.Dropout(dropout)\n",
        "\n",
        "  def forward(self,x,mask):\n",
        "    attn_output = self.self_attn(x,x,x,mask)\n",
        "    x = self.norm1(x+self.dropout(attn_output))\n",
        "    ff_output = self.feed_forward(x)\n",
        "    x = self.norm2(x+self.dropout(ff_output))\n",
        "    return x\n"
      ],
      "metadata": {
        "id": "tsAXolfdFA4P"
      },
      "execution_count": 23,
      "outputs": []
    },
    {
      "cell_type": "markdown",
      "source": [
        "Now, we will be working on the decoder blocks"
      ],
      "metadata": {
        "id": "IpPZCsbJG9-f"
      }
    },
    {
      "cell_type": "code",
      "source": [
        "class DecoderLayer(nn.Module):\n",
        "  def __init__(self,model_dimension,n_heads,ff_dimension,dropout):\n",
        "    super(DecoderLayer,self).__init__()\n",
        "    self.self_attn = MultiHeadAttention(model_dimension,n_heads)\n",
        "    self.cross_attn = MultiHeadAttention(model_dimension,n_heads)\n",
        "    self.feed_forward = PositionWiseFeedForward(model_dimension,ff_dimension)\n",
        "    self.norm1 = nn.LayerNorm(model_dimension)\n",
        "    self.norm2 = nn.LayerNorm(model_dimension)\n",
        "    self.norm3 = nn.LayerNorm(model_dimension)\n",
        "    self.dropout = nn.Dropout(dropout)\n",
        "\n",
        "  def forward(self,x,encoder_output,src_mask,target_mask):\n",
        "    attn_output = self.self_attn(x,x,x,target_mask)\n",
        "    x = self.norm1(x+self.dropout(attn_output))\n",
        "    attn_output = self.cross_attn(x,encoder_output,encoder_output,src_mask)\n",
        "    x = self.norm2(x+self.dropout(attn_output))\n",
        "    ff_output = self.feed_forward(x)\n",
        "    x = self.norm3(x+self.dropout(ff_output))\n",
        "    return x"
      ],
      "metadata": {
        "id": "h7N9RfnOHEGX"
      },
      "execution_count": 24,
      "outputs": []
    },
    {
      "cell_type": "markdown",
      "source": [
        "Combining the Encoder and Decoder layers to create the complete Transformer network"
      ],
      "metadata": {
        "id": "VHXmFj_-KxF-"
      }
    },
    {
      "cell_type": "code",
      "source": [
        "class Transformer(nn.Module):\n",
        "  def __init__(self,src_vocab_size,tgt_vocab_size,model_dimension,n_heads,num_layers,ff_dimension,max_seq_length,dropout):\n",
        "    super(Transformer,self).__init__()\n",
        "    self.encoder_embedding = nn.Embedding(src_vocab_size,model_dimension)\n",
        "    self.decoder_embedding = nn.Embedding(tgt_vocab_size,model_dimension)\n",
        "    self.positional_encoding = PositionalEncoding(model_dimension,max_seq_length)\n",
        "\n",
        "    self.encoder_embedding = nn.ModuleList([EncoderLayer(model_dimension,n_heads,ff_dimension,dropout) for _ in range(num_layers)])\n",
        "    self.decoder_embedding = nn.ModuleList([DecoderLayer(model_dimension,n_heads,ff_dimension,dropout) for _ in range(num_layers)])\n",
        "\n",
        "    #self.fc: Final fully connected (linear) layer mapping to target vocabulary size.\n",
        "    self.fc = nn.Linear(model_dimension,tgt_vocab_size)\n",
        "    self.dropout = nn.Dropout(dropout)\n",
        "\n",
        "    def generate_mask(self, src, tgt):\n",
        "        src_mask = (src != 0).unsqueeze(1).unsqueeze(2)\n",
        "        tgt_mask = (tgt != 0).unsqueeze(1).unsqueeze(3)\n",
        "        seq_length = tgt.size(1)\n",
        "        nopeak_mask = (1 - torch.triu(torch.ones(1, seq_length, seq_length), diagonal=1)).bool()\n",
        "        tgt_mask = tgt_mask & nopeak_mask\n",
        "        return src_mask, tgt_mask\n",
        "\n",
        "    def forward(self,src,tgt):\n",
        "      src_mask, tgt_mask = self.generate_mask(src, tgt)\n",
        "      src_embedded = self.dropout(self.positional_encoding(self.encoder_embedding(src)))\n",
        "      tgt_embedded = self.dropout(self.positional_encoding(self.decoder_embedding(tgt)))\n",
        "      enc_output = src_embedded\n",
        "      for enc_layer in self.encoder_layers:\n",
        "            enc_output = enc_layer(enc_output, src_mask)\n",
        "\n",
        "      dec_output = tgt_embedded\n",
        "      for dec_layer in self.decoder_layers:\n",
        "          dec_output = dec_layer(dec_output, enc_output, src_mask, tgt_mask)\n",
        "\n",
        "      output = self.fc(dec_output)\n",
        "      return output"
      ],
      "metadata": {
        "id": "PV0aWgxlK0qN"
      },
      "execution_count": 25,
      "outputs": []
    },
    {
      "cell_type": "markdown",
      "source": [
        "Training the Model"
      ],
      "metadata": {
        "id": "gvxRuhg6ObrN"
      }
    },
    {
      "cell_type": "code",
      "source": [
        "src_vocab_size = 5000\n",
        "tgt_vocab_size = 5000\n",
        "model_dimension = 512\n",
        "n_heads = 8\n",
        "num_layers = 6\n",
        "ff_dimension = 2048\n",
        "max_seq_length = 100\n",
        "dropout = 0.1\n",
        "\n",
        "transformer = Transformer(src_vocab_size, tgt_vocab_size, model_dimension, n_heads, num_layers, ff_dimension, max_seq_length, dropout)\n",
        "\n",
        "# Generate random sample data\n",
        "src_data = torch.randint(1, src_vocab_size, (64, max_seq_length))  # (batch_size, seq_length)\n",
        "tgt_data = torch.randint(1, tgt_vocab_size, (64, max_seq_length))  # (batch_size, seq_length)"
      ],
      "metadata": {
        "id": "BnO4-Cm-Oduk"
      },
      "execution_count": 26,
      "outputs": []
    },
    {
      "cell_type": "code",
      "source": [
        "transformer = Transformer(src_vocab_size, tgt_vocab_size, model_dimension, n_heads, num_layers, ff_dimension, max_seq_length, dropout)"
      ],
      "metadata": {
        "id": "Oq_ntEZzOx-a"
      },
      "execution_count": 27,
      "outputs": []
    },
    {
      "cell_type": "code",
      "source": [
        "criterion = nn.CrossEntropyLoss(ignore_index=0)\n",
        "optimizer = optim.Adam(transformer.parameters(), lr=0.0001, betas=(0.9, 0.98), eps=1e-9)\n",
        "\n",
        "transformer.train()\n",
        "\n",
        "for epoch in range(100):\n",
        "    optimizer.zero_grad()\n",
        "    output = transformer(src_data, tgt_data[:, :-1])\n",
        "    loss = criterion(output.contiguous().view(-1, tgt_vocab_size), tgt_data[:, 1:].contiguous().view(-1))\n",
        "    loss.backward()\n",
        "    optimizer.step()\n",
        "    print(f\"Epoch: {epoch+1}, Loss: {loss.item()}\")"
      ],
      "metadata": {
        "id": "wUAsUY-5O7E2"
      },
      "execution_count": 29,
      "outputs": []
    }
  ]
}