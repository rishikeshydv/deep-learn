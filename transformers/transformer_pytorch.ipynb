{
  "cells": [
    {
      "cell_type": "code",
      "execution_count": 59,
      "metadata": {
        "id": "NmNGyrCTLNwP"
      },
      "outputs": [],
      "source": [
        "#pip3 install torch torchvision torchaudio"
      ]
    },
    {
      "cell_type": "code",
      "execution_count": 60,
      "metadata": {
        "id": "ZOwOZCvr_Gad"
      },
      "outputs": [],
      "source": [
        "import torch\n",
        "import torch.nn as nn\n",
        "import torch.optim as optim\n",
        "import torch.utils.data as data\n",
        "import math"
      ]
    },
    {
      "cell_type": "code",
      "execution_count": 70,
      "metadata": {
        "id": "myRJi-ro_gq4"
      },
      "outputs": [],
      "source": [
        "class MultiHeadAttention(nn.Module):\n",
        "    def __init__(self, model_dimension, n_heads):\n",
        "        super(MultiHeadAttention, self).__init__()\n",
        "        assert model_dimension % n_heads == 0\n",
        "        self.dimension = model_dimension // n_heads\n",
        "        self.n_heads = n_heads\n",
        "\n",
        "        # Linear layers for Q, K, V, and output\n",
        "        self.q = nn.Linear(model_dimension, model_dimension)\n",
        "        self.k = nn.Linear(model_dimension, model_dimension)\n",
        "        self.v = nn.Linear(model_dimension, model_dimension)\n",
        "        self.o = nn.Linear(model_dimension, model_dimension)\n",
        "\n",
        "    def scaled_dot_product_attention(self, Q, K, V, mask=None):\n",
        "        scores = torch.matmul(Q, K.transpose(-2, -1)) / math.sqrt(self.dimension)\n",
        "        if mask is not None:\n",
        "            scores = scores.masked_fill(mask == 0, -1e9)\n",
        "        attention_weights = torch.softmax(scores, dim=-1)\n",
        "        output = torch.matmul(attention_weights, V)\n",
        "        return output\n",
        "\n",
        "    def split_heads(self, x):\n",
        "        batch_size, seq_length, model_dim = x.size()\n",
        "        x = x.view(batch_size, seq_length, self.n_heads, self.dimension)\n",
        "        return x.permute(0, 2, 1, 3)  # (batch_size, n_heads, seq_length, dimension)\n",
        "\n",
        "    def combine_heads(self, x):\n",
        "        batch_size, n_heads, seq_length, dimension = x.size()\n",
        "        x = x.permute(0, 2, 1, 3).contiguous()\n",
        "        return x.view(batch_size, seq_length, n_heads * dimension)\n",
        "\n",
        "    def forward(self, Q, K, V, mask=None):\n",
        "        Q = self.split_heads(self.q(Q))\n",
        "        K = self.split_heads(self.k(K))\n",
        "        V = self.split_heads(self.v(V))\n",
        "        attention = self.scaled_dot_product_attention(Q, K, V, mask)\n",
        "        combined = self.combine_heads(attention)\n",
        "        return self.o(combined)"
      ]
    },
    {
      "cell_type": "code",
      "execution_count": 71,
      "metadata": {
        "id": "aM0zgKPo9kHH"
      },
      "outputs": [],
      "source": [
        "class PositionWiseFeedForward(nn.Module):\n",
        "    def __init__(self, model_dimension, ff_dimension):\n",
        "        super(PositionWiseFeedForward, self).__init__()\n",
        "        self.fc1 = nn.Linear(model_dimension, ff_dimension)\n",
        "        self.fc2 = nn.Linear(ff_dimension, model_dimension)\n",
        "        self.relu = nn.ReLU()\n",
        "\n",
        "    def forward(self, x):\n",
        "        return self.fc2(self.relu(self.fc1(x)))"
      ]
    },
    {
      "cell_type": "code",
      "execution_count": 72,
      "metadata": {
        "id": "mU8H2ocsAODv"
      },
      "outputs": [],
      "source": [
        "class PositionalEncoding(nn.Module):\n",
        "    def __init__(self, model_dimension, max_seq_length):\n",
        "        super(PositionalEncoding, self).__init__()\n",
        "        pe = torch.zeros(max_seq_length, model_dimension)\n",
        "        position = torch.arange(0, max_seq_length).unsqueeze(1).float()\n",
        "        div_term = torch.exp(torch.arange(0, model_dimension, 2).float() * -(math.log(10000.0) / model_dimension))\n",
        "        pe[:, 0::2] = torch.sin(position * div_term)\n",
        "        pe[:, 1::2] = torch.cos(position * div_term)\n",
        "        self.register_buffer('pe', pe.unsqueeze(0))\n",
        "\n",
        "    def forward(self, x):\n",
        "        return x + self.pe[:, :x.size(1)]"
      ]
    },
    {
      "cell_type": "code",
      "execution_count": 73,
      "metadata": {
        "id": "tsAXolfdFA4P"
      },
      "outputs": [],
      "source": [
        "class EncoderLayer(nn.Module):\n",
        "    def __init__(self, model_dimension, n_heads, ff_dimension, dropout):\n",
        "        super(EncoderLayer, self).__init__()\n",
        "        self.self_attn = MultiHeadAttention(model_dimension, n_heads)\n",
        "        self.feed_forward = PositionWiseFeedForward(model_dimension, ff_dimension)\n",
        "        self.norm1 = nn.LayerNorm(model_dimension)\n",
        "        self.norm2 = nn.LayerNorm(model_dimension)\n",
        "        self.dropout = nn.Dropout(dropout)\n",
        "\n",
        "    def forward(self, x, mask):\n",
        "        attn_output = self.self_attn(x, x, x, mask)\n",
        "        x = self.norm1(x + self.dropout(attn_output))\n",
        "        ff_output = self.feed_forward(x)\n",
        "        return self.norm2(x + self.dropout(ff_output))"
      ]
    },
    {
      "cell_type": "markdown",
      "metadata": {
        "id": "IpPZCsbJG9-f"
      },
      "source": [
        "Now, we will be working on the decoder blocks"
      ]
    },
    {
      "cell_type": "code",
      "execution_count": 74,
      "metadata": {
        "id": "h7N9RfnOHEGX"
      },
      "outputs": [],
      "source": [
        "class DecoderLayer(nn.Module):\n",
        "    def __init__(self, model_dimension, n_heads, ff_dimension, dropout):\n",
        "        super(DecoderLayer, self).__init__()\n",
        "        self.self_attn = MultiHeadAttention(model_dimension, n_heads)\n",
        "        self.cross_attn = MultiHeadAttention(model_dimension, n_heads)\n",
        "        self.feed_forward = PositionWiseFeedForward(model_dimension, ff_dimension)\n",
        "        self.norm1 = nn.LayerNorm(model_dimension)\n",
        "        self.norm2 = nn.LayerNorm(model_dimension)\n",
        "        self.norm3 = nn.LayerNorm(model_dimension)\n",
        "        self.dropout = nn.Dropout(dropout)\n",
        "\n",
        "    def forward(self, x, encoder_output, src_mask, tgt_mask):\n",
        "        attn_output = self.self_attn(x, x, x, tgt_mask)\n",
        "        x = self.norm1(x + self.dropout(attn_output))\n",
        "        cross_attn_output = self.cross_attn(x, encoder_output, encoder_output, src_mask)\n",
        "        x = self.norm2(x + self.dropout(cross_attn_output))\n",
        "        ff_output = self.feed_forward(x)\n",
        "        return self.norm3(x + self.dropout(ff_output))"
      ]
    },
    {
      "cell_type": "markdown",
      "metadata": {
        "id": "VHXmFj_-KxF-"
      },
      "source": [
        "Combining the Encoder and Decoder layers to create the complete Transformer network"
      ]
    },
    {
      "cell_type": "code",
      "execution_count": 75,
      "metadata": {
        "id": "PV0aWgxlK0qN"
      },
      "outputs": [],
      "source": [
        "class Transformer(nn.Module):\n",
        "    def __init__(self, src_vocab_size, tgt_vocab_size, model_dimension, n_heads, num_layers, ff_dimension, max_seq_length, dropout):\n",
        "        super(Transformer, self).__init__()\n",
        "        self.encoder_embedding = nn.Embedding(src_vocab_size, model_dimension)\n",
        "        self.decoder_embedding = nn.Embedding(tgt_vocab_size, model_dimension)\n",
        "        self.positional_encoding = PositionalEncoding(model_dimension, max_seq_length)\n",
        "\n",
        "        self.encoder_layers = nn.ModuleList(\n",
        "            [EncoderLayer(model_dimension, n_heads, ff_dimension, dropout) for _ in range(num_layers)]\n",
        "        )\n",
        "        self.decoder_layers = nn.ModuleList(\n",
        "            [DecoderLayer(model_dimension, n_heads, ff_dimension, dropout) for _ in range(num_layers)]\n",
        "        )\n",
        "        self.fc = nn.Linear(model_dimension, tgt_vocab_size)\n",
        "        self.dropout = nn.Dropout(dropout)\n",
        "\n",
        "    def generate_mask(self, src, tgt):\n",
        "        src_mask = (src != 0).unsqueeze(1).unsqueeze(2)\n",
        "        tgt_mask = (tgt != 0).unsqueeze(1).unsqueeze(2)\n",
        "        seq_length = tgt.size(1)\n",
        "        nopeak_mask = torch.triu(torch.ones(seq_length, seq_length), diagonal=1).bool().to(tgt.device)\n",
        "        tgt_mask = tgt_mask & ~nopeak_mask.unsqueeze(0)\n",
        "        return src_mask, tgt_mask\n",
        "\n",
        "    def forward(self, src, tgt):\n",
        "        src_mask, tgt_mask = self.generate_mask(src, tgt)\n",
        "        src_embedded = self.dropout(self.positional_encoding(self.encoder_embedding(src)))\n",
        "        tgt_embedded = self.dropout(self.positional_encoding(self.decoder_embedding(tgt)))\n",
        "\n",
        "        enc_output = src_embedded\n",
        "        for layer in self.encoder_layers:\n",
        "            enc_output = layer(enc_output, src_mask)\n",
        "\n",
        "        dec_output = tgt_embedded\n",
        "        for layer in self.decoder_layers:\n",
        "            dec_output = layer(dec_output, enc_output, src_mask, tgt_mask)\n",
        "\n",
        "        return self.fc(dec_output)"
      ]
    },
    {
      "cell_type": "markdown",
      "metadata": {
        "id": "gvxRuhg6ObrN"
      },
      "source": [
        "Training the Model"
      ]
    },
    {
      "cell_type": "code",
      "execution_count": 76,
      "metadata": {
        "id": "BnO4-Cm-Oduk"
      },
      "outputs": [],
      "source": [
        "src_vocab_size = 5000\n",
        "tgt_vocab_size = 5000\n",
        "model_dimension = 512\n",
        "n_heads = 8\n",
        "num_layers = 6\n",
        "ff_dimension = 2048\n",
        "max_seq_length = 100\n",
        "dropout = 0.1\n",
        "\n",
        "transformer = Transformer(src_vocab_size, tgt_vocab_size, model_dimension, n_heads, num_layers, ff_dimension, max_seq_length, dropout)\n",
        "\n",
        "# Generate random sample data\n",
        "src_data = torch.randint(1, src_vocab_size, (64, max_seq_length))  # (batch_size, seq_length)\n",
        "tgt_data = torch.randint(1, tgt_vocab_size, (64, max_seq_length))  # (batch_size, seq_length)"
      ]
    },
    {
      "cell_type": "code",
      "execution_count": 77,
      "metadata": {
        "id": "Oq_ntEZzOx-a"
      },
      "outputs": [],
      "source": [
        "transformer = Transformer(src_vocab_size, tgt_vocab_size, model_dimension, n_heads, num_layers, ff_dimension, max_seq_length, dropout)"
      ]
    },
    {
      "cell_type": "code",
      "execution_count": 78,
      "metadata": {
        "id": "wUAsUY-5O7E2"
      },
      "outputs": [
        {
          "name": "stdout",
          "output_type": "stream",
          "text": [
            "Epoch: 1, Loss: 8.685275077819824\n",
            "Epoch: 2, Loss: 8.559683799743652\n",
            "Epoch: 3, Loss: 8.489509582519531\n",
            "Epoch: 4, Loss: 8.427210807800293\n",
            "Epoch: 5, Loss: 8.363287925720215\n",
            "Epoch: 6, Loss: 8.290757179260254\n",
            "Epoch: 7, Loss: 8.207722663879395\n",
            "Epoch: 8, Loss: 8.120953559875488\n",
            "Epoch: 9, Loss: 8.046219825744629\n",
            "Epoch: 10, Loss: 7.957241535186768\n",
            "Epoch: 11, Loss: 7.873353958129883\n",
            "Epoch: 12, Loss: 7.792331218719482\n",
            "Epoch: 13, Loss: 7.703634738922119\n",
            "Epoch: 14, Loss: 7.618618965148926\n",
            "Epoch: 15, Loss: 7.538391590118408\n",
            "Epoch: 16, Loss: 7.4585723876953125\n",
            "Epoch: 17, Loss: 7.377705097198486\n",
            "Epoch: 18, Loss: 7.290804386138916\n",
            "Epoch: 19, Loss: 7.211251735687256\n",
            "Epoch: 20, Loss: 7.128533840179443\n",
            "Epoch: 21, Loss: 7.050246715545654\n",
            "Epoch: 22, Loss: 6.978647708892822\n",
            "Epoch: 23, Loss: 6.901278018951416\n",
            "Epoch: 24, Loss: 6.8246002197265625\n",
            "Epoch: 25, Loss: 6.745556354522705\n",
            "Epoch: 26, Loss: 6.677863121032715\n",
            "Epoch: 27, Loss: 6.591556549072266\n",
            "Epoch: 28, Loss: 6.528134822845459\n",
            "Epoch: 29, Loss: 6.451750755310059\n",
            "Epoch: 30, Loss: 6.384864807128906\n",
            "Epoch: 31, Loss: 6.314634323120117\n",
            "Epoch: 32, Loss: 6.246423721313477\n",
            "Epoch: 33, Loss: 6.180303573608398\n",
            "Epoch: 34, Loss: 6.113512992858887\n",
            "Epoch: 35, Loss: 6.04624605178833\n",
            "Epoch: 36, Loss: 5.980471134185791\n",
            "Epoch: 37, Loss: 5.915338516235352\n",
            "Epoch: 38, Loss: 5.847927570343018\n",
            "Epoch: 39, Loss: 5.78740119934082\n",
            "Epoch: 40, Loss: 5.726438522338867\n",
            "Epoch: 41, Loss: 5.659295558929443\n",
            "Epoch: 42, Loss: 5.602516174316406\n",
            "Epoch: 43, Loss: 5.544102668762207\n",
            "Epoch: 44, Loss: 5.484455585479736\n",
            "Epoch: 45, Loss: 5.419724464416504\n",
            "Epoch: 46, Loss: 5.363293647766113\n",
            "Epoch: 47, Loss: 5.302469253540039\n",
            "Epoch: 48, Loss: 5.242897033691406\n",
            "Epoch: 49, Loss: 5.1887688636779785\n",
            "Epoch: 50, Loss: 5.131743907928467\n",
            "Epoch: 51, Loss: 5.0739264488220215\n",
            "Epoch: 52, Loss: 5.025637626647949\n",
            "Epoch: 53, Loss: 4.963977336883545\n",
            "Epoch: 54, Loss: 4.912668704986572\n",
            "Epoch: 55, Loss: 4.861534118652344\n",
            "Epoch: 56, Loss: 4.8016676902771\n",
            "Epoch: 57, Loss: 4.749084949493408\n",
            "Epoch: 58, Loss: 4.6950812339782715\n",
            "Epoch: 59, Loss: 4.644218444824219\n",
            "Epoch: 60, Loss: 4.589706897735596\n",
            "Epoch: 61, Loss: 4.5392022132873535\n",
            "Epoch: 62, Loss: 4.4867424964904785\n",
            "Epoch: 63, Loss: 4.440650463104248\n",
            "Epoch: 64, Loss: 4.387001037597656\n",
            "Epoch: 65, Loss: 4.338473320007324\n",
            "Epoch: 66, Loss: 4.283380508422852\n",
            "Epoch: 67, Loss: 4.2308783531188965\n",
            "Epoch: 68, Loss: 4.180943012237549\n",
            "Epoch: 69, Loss: 4.134249210357666\n",
            "Epoch: 70, Loss: 4.083432197570801\n",
            "Epoch: 71, Loss: 4.037424087524414\n",
            "Epoch: 72, Loss: 3.9860777854919434\n",
            "Epoch: 73, Loss: 3.941502809524536\n",
            "Epoch: 74, Loss: 3.895174264907837\n",
            "Epoch: 75, Loss: 3.8447184562683105\n",
            "Epoch: 76, Loss: 3.7931463718414307\n",
            "Epoch: 77, Loss: 3.7497336864471436\n",
            "Epoch: 78, Loss: 3.705003023147583\n",
            "Epoch: 79, Loss: 3.6613903045654297\n",
            "Epoch: 80, Loss: 3.6015408039093018\n",
            "Epoch: 81, Loss: 3.565883159637451\n",
            "Epoch: 82, Loss: 3.515577793121338\n",
            "Epoch: 83, Loss: 3.47422456741333\n",
            "Epoch: 84, Loss: 3.4327175617218018\n",
            "Epoch: 85, Loss: 3.381350040435791\n",
            "Epoch: 86, Loss: 3.3371269702911377\n",
            "Epoch: 87, Loss: 3.293565034866333\n",
            "Epoch: 88, Loss: 3.2439942359924316\n",
            "Epoch: 89, Loss: 3.1972708702087402\n",
            "Epoch: 90, Loss: 3.157520294189453\n",
            "Epoch: 91, Loss: 3.1174800395965576\n",
            "Epoch: 92, Loss: 3.065291166305542\n",
            "Epoch: 93, Loss: 3.0250773429870605\n",
            "Epoch: 94, Loss: 2.9878032207489014\n",
            "Epoch: 95, Loss: 2.9386441707611084\n",
            "Epoch: 96, Loss: 2.8903326988220215\n",
            "Epoch: 97, Loss: 2.8588340282440186\n",
            "Epoch: 98, Loss: 2.815826654434204\n",
            "Epoch: 99, Loss: 2.7731099128723145\n",
            "Epoch: 100, Loss: 2.7287347316741943\n"
          ]
        }
      ],
      "source": [
        "criterion = nn.CrossEntropyLoss(ignore_index=0)\n",
        "optimizer = optim.Adam(transformer.parameters(), lr=0.0001, betas=(0.9, 0.98), eps=1e-9)\n",
        "\n",
        "transformer.train()\n",
        "\n",
        "for epoch in range(100):\n",
        "    optimizer.zero_grad()\n",
        "    output = transformer(src_data, tgt_data[:, :-1])\n",
        "    loss = criterion(output.contiguous().view(-1, tgt_vocab_size), tgt_data[:, 1:].contiguous().view(-1))\n",
        "    loss.backward()\n",
        "    optimizer.step()\n",
        "    print(f\"Epoch: {epoch+1}, Loss: {loss.item()}\")"
      ]
    }
  ],
  "metadata": {
    "colab": {
      "provenance": []
    },
    "kernelspec": {
      "display_name": "Python 3",
      "name": "python3"
    },
    "language_info": {
      "codemirror_mode": {
        "name": "ipython",
        "version": 3
      },
      "file_extension": ".py",
      "mimetype": "text/x-python",
      "name": "python",
      "nbconvert_exporter": "python",
      "pygments_lexer": "ipython3",
      "version": "3.12.4"
    }
  },
  "nbformat": 4,
  "nbformat_minor": 0
}
